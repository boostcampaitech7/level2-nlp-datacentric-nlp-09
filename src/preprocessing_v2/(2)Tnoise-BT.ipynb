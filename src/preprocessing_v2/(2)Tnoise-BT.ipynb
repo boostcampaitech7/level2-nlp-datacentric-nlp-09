{
 "cells": [
  {
   "cell_type": "code",
   "execution_count": null,
   "metadata": {},
   "outputs": [
    {
     "name": "stderr",
     "output_type": "stream",
     "text": [
      "100%|██████████| 1073/1073 [17:30<00:00,  1.02it/s] \n"
     ]
    }
   ],
   "source": [
    "import pandas as pd\n",
    "import deepl\n",
    "from googletrans import Translator\n",
    "from tqdm import tqdm\n",
    "\n",
    "\n",
    "def back_translate_deepl(text):\n",
    "    result = translator_deepl.translate_text(text, target_lang=\"EN-US\")\n",
    "    if not result.text:\n",
    "        return None\n",
    "    result = translator_deepl.translate_text(result.text, target_lang=\"KO\")\n",
    "    return result.text\n",
    "\n",
    "def back_translate_google(text, src=\"ko\", dest=\"en\"):\n",
    "    while True:\n",
    "        try:\n",
    "            en_result = translator_google.translate(text, dest=dest)\n",
    "            ko_result = translator_google.translate(en_result.text, dest=src)\n",
    "            result = ko_result.text\n",
    "            return result\n",
    "        except Exception as e:\n",
    "            time.sleep(1)\n",
    "\n",
    "\n",
    "auth_key = \"79c79fb2-eba6-42b4-a677-799cf2843151:fx\"\n",
    "translator_deepl = deepl.Translator(auth_key)\n",
    "# translator_google = Translator()\n",
    "\n",
    "tqdm.pandas()\n",
    "\n",
    "noise_Tnoise_HighRatioCut = pd.read_csv('../../data/preprocessed_v2/Tnoise_1073.csv')\n",
    "\n",
    "noise_Tnoise_HighRatioCut['text'] = noise_Tnoise_HighRatioCut['text'].progress_apply(back_translate_deepl)\n",
    "# df['google'] = df['text'].progress_apply(back_translate_google)\n",
    "\n",
    "# save\n",
    "noise_Tnoise_HighRatioCut.to_csv('../../data/preprocessed_v2/Tnoise_BT_1073.csv', index=False)"
   ]
  }
 ],
 "metadata": {
  "kernelspec": {
   "display_name": "base",
   "language": "python",
   "name": "python3"
  },
  "language_info": {
   "codemirror_mode": {
    "name": "ipython",
    "version": 3
   },
   "file_extension": ".py",
   "mimetype": "text/x-python",
   "name": "python",
   "nbconvert_exporter": "python",
   "pygments_lexer": "ipython3",
   "version": "3.10.13"
  }
 },
 "nbformat": 4,
 "nbformat_minor": 2
}
