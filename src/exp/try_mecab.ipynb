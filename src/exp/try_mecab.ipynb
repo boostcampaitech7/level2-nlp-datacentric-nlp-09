{
 "cells": [
  {
   "cell_type": "code",
   "execution_count": 3,
   "metadata": {},
   "outputs": [
    {
     "ename": "ModuleNotFoundError",
     "evalue": "No module named 'mecab'",
     "output_type": "error",
     "traceback": [
      "\u001b[0;31m---------------------------------------------------------------------------\u001b[0m",
      "\u001b[0;31mModuleNotFoundError\u001b[0m                       Traceback (most recent call last)",
      "Cell \u001b[0;32mIn[3], line 1\u001b[0m\n\u001b[0;32m----> 1\u001b[0m \u001b[38;5;28;01mfrom\u001b[39;00m \u001b[38;5;21;01mmecab\u001b[39;00m \u001b[38;5;28;01mimport\u001b[39;00m MeCab\n\u001b[1;32m      3\u001b[0m \u001b[38;5;66;03m# MeCab 형태소 분석기 객체 생성\u001b[39;00m\n\u001b[1;32m      4\u001b[0m mecab \u001b[38;5;241m=\u001b[39m MeCab()\n",
      "\u001b[0;31mModuleNotFoundError\u001b[0m: No module named 'mecab'"
     ]
    }
   ],
   "source": [
    "from mecab import MeCab\n",
    "\n",
    "# MeCab 형태소 분석기 객체 생성\n",
    "mecab = MeCab()\n",
    "\n",
    "# 분석할 샘플 문장\n",
    "sentence = \"나는 NLP를 공부하고 있어.\"\n",
    "\n",
    "# 형태소 분석\n",
    "parsed = mecab.parse(sentence)\n",
    "\n",
    "# 결과 출력\n",
    "print(\"Parsed Result:\")\n",
    "print(parsed)\n"
   ]
  }
 ],
 "metadata": {
  "kernelspec": {
   "display_name": "base",
   "language": "python",
   "name": "python3"
  },
  "language_info": {
   "codemirror_mode": {
    "name": "ipython",
    "version": 3
   },
   "file_extension": ".py",
   "mimetype": "text/x-python",
   "name": "python",
   "nbconvert_exporter": "python",
   "pygments_lexer": "ipython3",
   "version": "3.10.13"
  }
 },
 "nbformat": 4,
 "nbformat_minor": 2
}
