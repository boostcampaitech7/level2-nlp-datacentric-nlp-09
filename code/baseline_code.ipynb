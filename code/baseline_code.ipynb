{
  "cells": [
    {
      "cell_type": "markdown",
      "metadata": {
        "id": "hZFRz66WGJ0m"
      },
      "source": [
        "# Data-Centric NLP 대회: 주제 분류 프로젝트"
      ]
    },
    {
      "cell_type": "markdown",
      "metadata": {
        "id": "aJ-n74gNGJ0n"
      },
      "source": [
        "## Load Libraries"
      ]
    },
    {
      "cell_type": "code",
      "execution_count": null,
      "metadata": {
        "id": "ieJqZz6WGJ0n"
      },
      "outputs": [],
      "source": [
        "import os\n",
        "import random\n",
        "import numpy as np\n",
        "import pandas as pd\n",
        "from tqdm import tqdm\n",
        "\n",
        "import torch\n",
        "from torch.utils.data import Dataset\n",
        "\n",
        "import evaluate\n",
        "from transformers import AutoModelForSequenceClassification, AutoTokenizer\n",
        "from transformers import DataCollatorWithPadding\n",
        "from transformers import TrainingArguments, Trainer\n",
        "\n",
        "from sklearn.model_selection import train_test_split"
      ]
    },
    {
      "cell_type": "markdown",
      "metadata": {
        "id": "c9MrGeVLGJ0o"
      },
      "source": [
        "## Set Hyperparameters"
      ]
    },
    {
      "cell_type": "code",
      "execution_count": null,
      "metadata": {
        "id": "Rojb26TRGJ0o"
      },
      "outputs": [],
      "source": [
        "SEED = 2024\n",
        "random.seed(SEED)\n",
        "np.random.seed(SEED)\n",
        "torch.manual_seed(SEED)\n",
        "torch.cuda.manual_seed(SEED)\n",
        "torch.cuda.manual_seed_all(SEED)"
      ]
    },
    {
      "cell_type": "code",
      "execution_count": null,
      "metadata": {
        "colab": {
          "base_uri": "https://localhost:8080/"
        },
        "id": "NHiKw7tAGJ0o",
        "outputId": "fa675ab9-3221-4ef1-dabb-42e2aad2192c"
      },
      "outputs": [],
      "source": [
        "DEVICE = torch.device('cuda') if torch.cuda.is_available() else torch.device('cpu')\n",
        "DEVICE"
      ]
    },
    {
      "cell_type": "code",
      "execution_count": null,
      "metadata": {
        "id": "ANUH4JCxGJ0o"
      },
      "outputs": [],
      "source": [
        "BASE_DIR = os.getcwd()\n",
        "DATA_DIR = os.path.join(BASE_DIR, '../data/final/main_final_data.csv') # enhanced된 파일까지 경로\n",
        "TEST_DIR = os.path.join(BASE_DIR, '../data/raw/test.csv')\n",
        "train_name = os.path.splitext(os.path.basename(DATA_DIR))[0]  # enhanced된 파일 이름 추출\n",
        "OUTPUT_DIR = os.path.join(BASE_DIR, f'../output/{train_name}') # 해당 파일 이름으로 output 폴더 생성"
      ]
    },
    {
      "cell_type": "markdown",
      "metadata": {
        "id": "MuP9IW9mGJ0o"
      },
      "source": [
        "## Load Tokenizer and Model"
      ]
    },
    {
      "cell_type": "code",
      "execution_count": null,
      "metadata": {
        "id": "HH0lhDvhGJ0o"
      },
      "outputs": [],
      "source": [
        "model_name = 'klue/bert-base'\n",
        "tokenizer = AutoTokenizer.from_pretrained(model_name)\n",
        "model = AutoModelForSequenceClassification.from_pretrained(model_name, num_labels=7).to(DEVICE)"
      ]
    },
    {
      "cell_type": "markdown",
      "metadata": {
        "id": "-x2NvoGbGJ0o"
      },
      "source": [
        "## Define Dataset"
      ]
    },
    {
      "cell_type": "code",
      "execution_count": null,
      "metadata": {
        "id": "gE13nELlGJ0o"
      },
      "outputs": [],
      "source": [
        "data = pd.read_csv(DATA_DIR)\n",
        "dataset_train, dataset_valid = train_test_split(data, test_size=0.05, random_state=SEED)\n",
        "dataset_train = pd.read_csv(DATA_DIR) # no split"
      ]
    },
    {
      "cell_type": "code",
      "execution_count": null,
      "metadata": {
        "id": "9BQVS286GJ0o"
      },
      "outputs": [],
      "source": [
        "class BERTDataset(Dataset):\n",
        "    def __init__(self, data, tokenizer):\n",
        "        input_texts = data['text']\n",
        "        targets = data['target']\n",
        "        self.inputs = []; self.labels = []\n",
        "        for text, label in zip(input_texts, targets):\n",
        "            tokenized_input = tokenizer(text, padding='max_length', truncation=True, return_tensors='pt')\n",
        "            self.inputs.append(tokenized_input)\n",
        "            self.labels.append(torch.tensor(label))\n",
        "\n",
        "    def __getitem__(self, idx):\n",
        "        return {\n",
        "            'input_ids': self.inputs[idx]['input_ids'].squeeze(0),\n",
        "            'attention_mask': self.inputs[idx]['attention_mask'].squeeze(0),\n",
        "            'labels': self.labels[idx].squeeze(0)\n",
        "        }\n",
        "\n",
        "    def __len__(self):\n",
        "        return len(self.labels)"
      ]
    },
    {
      "cell_type": "code",
      "execution_count": null,
      "metadata": {
        "id": "BVycj2wPGJ0p"
      },
      "outputs": [],
      "source": [
        "data_train = BERTDataset(dataset_train, tokenizer)\n",
        "data_valid = BERTDataset(dataset_valid, tokenizer)"
      ]
    },
    {
      "cell_type": "code",
      "execution_count": null,
      "metadata": {
        "id": "5yh5dYa0GJ0p"
      },
      "outputs": [],
      "source": [
        "data_collator = DataCollatorWithPadding(tokenizer=tokenizer)"
      ]
    },
    {
      "cell_type": "markdown",
      "metadata": {
        "id": "YPl6TZ7CGJ0p"
      },
      "source": [
        "## Define Metric"
      ]
    },
    {
      "cell_type": "code",
      "execution_count": null,
      "metadata": {
        "id": "XA9g2vV_GJ0p"
      },
      "outputs": [],
      "source": [
        "f1 = evaluate.load('f1')\n",
        "def compute_metrics(eval_pred):\n",
        "    predictions, labels = eval_pred\n",
        "    predictions = np.argmax(predictions, axis=1)\n",
        "    return f1.compute(predictions=predictions, references=labels, average='macro')\n"
      ]
    },
    {
      "cell_type": "markdown",
      "metadata": {
        "id": "WV2exsooGJ0p"
      },
      "source": [
        "## Train Model"
      ]
    },
    {
      "cell_type": "code",
      "execution_count": null,
      "metadata": {
        "id": "OkQVpzabGJ0p"
      },
      "outputs": [],
      "source": [
        "### for wandb setting\n",
        "#os.environ['WANDB_DISABLED'] = 'true'"
      ]
    },
    {
      "cell_type": "code",
      "execution_count": null,
      "metadata": {
        "id": "SLV_Qq5bGJ0p"
      },
      "outputs": [],
      "source": [
        "training_args = TrainingArguments(\n",
        "    output_dir=OUTPUT_DIR,\n",
        "    overwrite_output_dir=True,\n",
        "    do_train=True,\n",
        "    do_eval=True,\n",
        "    do_predict=True,\n",
        "    logging_strategy='steps',\n",
        "    eval_strategy='steps',\n",
        "    save_strategy='steps',\n",
        "    logging_steps=10,\n",
        "    eval_steps=10,\n",
        "    save_steps=100,\n",
        "    save_total_limit=2,\n",
        "    learning_rate= 2e-05,\n",
        "    adam_beta1 = 0.9,\n",
        "    adam_beta2 = 0.999,\n",
        "    adam_epsilon=1e-08,\n",
        "    weight_decay=0.01,\n",
        "    lr_scheduler_type='linear',\n",
        "    per_device_train_batch_size=32,\n",
        "    per_device_eval_batch_size=32,\n",
        "    num_train_epochs=2,\n",
        "    load_best_model_at_end=True,\n",
        "    metric_for_best_model='eval_f1',\n",
        "    greater_is_better=True,\n",
        "    seed=SEED\n",
        ")"
      ]
    },
    {
      "cell_type": "code",
      "execution_count": null,
      "metadata": {
        "id": "eGAepHgxGJ0p"
      },
      "outputs": [],
      "source": [
        "trainer = Trainer(\n",
        "    model=model,\n",
        "    args=training_args,\n",
        "    train_dataset=data_train,\n",
        "    eval_dataset=data_valid,\n",
        "    data_collator=data_collator,\n",
        "    compute_metrics=compute_metrics,\n",
        ")"
      ]
    },
    {
      "cell_type": "code",
      "execution_count": null,
      "metadata": {
        "id": "vJ_Vzpc9GJ0p"
      },
      "outputs": [],
      "source": [
        "trainer.train()"
      ]
    },
    {
      "cell_type": "markdown",
      "metadata": {
        "id": "wBXeP6ynGJ0p"
      },
      "source": [
        "## Evaluate Model"
      ]
    },
    {
      "cell_type": "code",
      "execution_count": null,
      "metadata": {
        "id": "eifEFgIOGJ0p"
      },
      "outputs": [],
      "source": [
        "dataset_test = pd.read_csv(TEST_DIR)"
      ]
    },
    {
      "cell_type": "code",
      "execution_count": null,
      "metadata": {
        "id": "7vPFu9y1GJ0p"
      },
      "outputs": [],
      "source": [
        "model.eval()\n",
        "preds = []\n",
        "\n",
        "for idx, sample in tqdm(dataset_test.iterrows(), total=len(dataset_test), desc=\"Evaluating\"):\n",
        "    inputs = tokenizer(sample['text'], return_tensors=\"pt\").to(DEVICE)\n",
        "    with torch.no_grad():\n",
        "        logits = model(**inputs).logits\n",
        "        pred = torch.argmax(torch.nn.Softmax(dim=1)(logits), dim=1).cpu().numpy()\n",
        "        preds.extend(pred)"
      ]
    },
    {
      "cell_type": "code",
      "execution_count": null,
      "metadata": {
        "id": "UO2hzsl-GJ0p"
      },
      "outputs": [],
      "source": [
        "dataset_test['target'] = preds\n",
        "dataset_test.to_csv(os.path.join(OUTPUT_DIR, 'output.csv'), index=False) # processed된 파일 이름 폴더에 결과 저장"
      ]
    }
  ],
  "metadata": {
    "accelerator": "GPU",
    "colab": {
      "gpuType": "T4",
      "provenance": []
    },
    "kernelspec": {
      "display_name": "base",
      "language": "python",
      "name": "python3"
    },
    "language_info": {
      "codemirror_mode": {
        "name": "ipython",
        "version": 3
      },
      "file_extension": ".py",
      "mimetype": "text/x-python",
      "name": "python",
      "nbconvert_exporter": "python",
      "pygments_lexer": "ipython3",
      "version": "3.10.13"
    }
  },
  "nbformat": 4,
  "nbformat_minor": 0
}
