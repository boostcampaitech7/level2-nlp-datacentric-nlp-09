{
  "cells": [
    {
      "cell_type": "markdown",
      "metadata": {
        "id": "hZFRz66WGJ0m"
      },
      "source": [
        "# Data-Centric NLP 대회: 주제 분류 프로젝트"
      ]
    },
    {
      "cell_type": "markdown",
      "metadata": {
        "id": "aJ-n74gNGJ0n"
      },
      "source": [
        "## Load Libraries"
      ]
    },
    {
      "cell_type": "code",
      "execution_count": 28,
      "metadata": {
        "id": "ieJqZz6WGJ0n"
      },
      "outputs": [],
      "source": [
        "import os\n",
        "import random\n",
        "import numpy as np\n",
        "import pandas as pd\n",
        "from tqdm import tqdm\n",
        "\n",
        "import torch\n",
        "from torch.utils.data import Dataset\n",
        "\n",
        "import evaluate\n",
        "from transformers import AutoModelForSequenceClassification, AutoTokenizer\n",
        "from transformers import DataCollatorWithPadding\n",
        "from transformers import TrainingArguments, Trainer\n",
        "\n",
        "from sklearn.model_selection import train_test_split"
      ]
    },
    {
      "cell_type": "markdown",
      "metadata": {
        "id": "c9MrGeVLGJ0o"
      },
      "source": [
        "## Set Hyperparameters"
      ]
    },
    {
      "cell_type": "code",
      "execution_count": 29,
      "metadata": {
        "id": "Rojb26TRGJ0o"
      },
      "outputs": [],
      "source": [
        "SEED = 456\n",
        "random.seed(SEED)\n",
        "np.random.seed(SEED)\n",
        "torch.manual_seed(SEED)\n",
        "torch.cuda.manual_seed(SEED)\n",
        "torch.cuda.manual_seed_all(SEED)"
      ]
    },
    {
      "cell_type": "code",
      "execution_count": 30,
      "metadata": {
        "colab": {
          "base_uri": "https://localhost:8080/"
        },
        "id": "NHiKw7tAGJ0o",
        "outputId": "fa675ab9-3221-4ef1-dabb-42e2aad2192c"
      },
      "outputs": [
        {
          "data": {
            "text/plain": [
              "device(type='cuda')"
            ]
          },
          "execution_count": 30,
          "metadata": {},
          "output_type": "execute_result"
        }
      ],
      "source": [
        "DEVICE = torch.device('cuda') if torch.cuda.is_available() else torch.device('cpu')\n",
        "DEVICE"
      ]
    },
    {
      "cell_type": "code",
      "execution_count": 31,
      "metadata": {
        "id": "ANUH4JCxGJ0o"
      },
      "outputs": [],
      "source": [
        "BASE_DIR = os.getcwd()\n",
        "DATA_DIR = os.path.join(BASE_DIR, '../data/augmented/combined_rows_aug_v4.csv') # processed된 파일까지 경로 \n",
        "TEST_DIR = os.path.join(BASE_DIR, '../data/raw/test.csv')\n",
        "train_name = os.path.splitext(os.path.basename(DATA_DIR))[0]  # processed된 파일 이름 추출\n",
        "OUTPUT_DIR = os.path.join(BASE_DIR, f'../output/{train_name}') # 해당 파일 이름으로 output 폴더 생성"
      ]
    },
    {
      "cell_type": "markdown",
      "metadata": {
        "id": "MuP9IW9mGJ0o"
      },
      "source": [
        "## Load Tokenizer and Model"
      ]
    },
    {
      "cell_type": "code",
      "execution_count": 32,
      "metadata": {
        "id": "HH0lhDvhGJ0o"
      },
      "outputs": [
        {
          "name": "stderr",
          "output_type": "stream",
          "text": [
            "Some weights of BertForSequenceClassification were not initialized from the model checkpoint at klue/bert-base and are newly initialized: ['classifier.bias', 'classifier.weight']\n",
            "You should probably TRAIN this model on a down-stream task to be able to use it for predictions and inference.\n"
          ]
        }
      ],
      "source": [
        "model_name = 'klue/bert-base'\n",
        "tokenizer = AutoTokenizer.from_pretrained(model_name)\n",
        "model = AutoModelForSequenceClassification.from_pretrained(model_name, num_labels=7).to(DEVICE)"
      ]
    },
    {
      "cell_type": "markdown",
      "metadata": {
        "id": "-x2NvoGbGJ0o"
      },
      "source": [
        "## Define Dataset"
      ]
    },
    {
      "cell_type": "code",
      "execution_count": 33,
      "metadata": {
        "id": "gE13nELlGJ0o"
      },
      "outputs": [],
      "source": [
        "data = pd.read_csv(DATA_DIR)\n",
        "dataset_train, dataset_valid = train_test_split(data, test_size=0.1, random_state=SEED)"
      ]
    },
    {
      "cell_type": "code",
      "execution_count": 34,
      "metadata": {
        "id": "9BQVS286GJ0o"
      },
      "outputs": [],
      "source": [
        "class BERTDataset(Dataset):\n",
        "    def __init__(self, data, tokenizer):\n",
        "        input_texts = data['text']\n",
        "        targets = data['target']\n",
        "        self.inputs = []; self.labels = []\n",
        "        for text, label in zip(input_texts, targets):\n",
        "            tokenized_input = tokenizer(text, padding='max_length', truncation=True, return_tensors='pt')\n",
        "            self.inputs.append(tokenized_input)\n",
        "            self.labels.append(torch.tensor(label))\n",
        "\n",
        "    def __getitem__(self, idx):\n",
        "        return {\n",
        "            'input_ids': self.inputs[idx]['input_ids'].squeeze(0),\n",
        "            'attention_mask': self.inputs[idx]['attention_mask'].squeeze(0),\n",
        "            'labels': self.labels[idx].squeeze(0)\n",
        "        }\n",
        "\n",
        "    def __len__(self):\n",
        "        return len(self.labels)"
      ]
    },
    {
      "cell_type": "code",
      "execution_count": 35,
      "metadata": {
        "id": "BVycj2wPGJ0p"
      },
      "outputs": [],
      "source": [
        "data_train = BERTDataset(dataset_train, tokenizer)\n",
        "data_valid = BERTDataset(dataset_valid, tokenizer)"
      ]
    },
    {
      "cell_type": "code",
      "execution_count": 36,
      "metadata": {
        "id": "5yh5dYa0GJ0p"
      },
      "outputs": [],
      "source": [
        "data_collator = DataCollatorWithPadding(tokenizer=tokenizer)"
      ]
    },
    {
      "cell_type": "markdown",
      "metadata": {
        "id": "YPl6TZ7CGJ0p"
      },
      "source": [
        "## Define Metric"
      ]
    },
    {
      "cell_type": "code",
      "execution_count": 37,
      "metadata": {
        "id": "XA9g2vV_GJ0p"
      },
      "outputs": [],
      "source": [
        "f1 = evaluate.load('f1')\n",
        "def compute_metrics(eval_pred):\n",
        "    predictions, labels = eval_pred\n",
        "    predictions = np.argmax(predictions, axis=1)\n",
        "    return f1.compute(predictions=predictions, references=labels, average='macro')\n"
      ]
    },
    {
      "cell_type": "markdown",
      "metadata": {
        "id": "WV2exsooGJ0p"
      },
      "source": [
        "## Train Model"
      ]
    },
    {
      "cell_type": "code",
      "execution_count": 38,
      "metadata": {
        "id": "OkQVpzabGJ0p"
      },
      "outputs": [],
      "source": [
        "### for wandb setting\n",
        "#os.environ['WANDB_DISABLED'] = 'true'"
      ]
    },
    {
      "cell_type": "code",
      "execution_count": 39,
      "metadata": {
        "id": "SLV_Qq5bGJ0p"
      },
      "outputs": [],
      "source": [
        "training_args = TrainingArguments(\n",
        "    output_dir=OUTPUT_DIR,\n",
        "    overwrite_output_dir=True,\n",
        "    do_train=True,\n",
        "    do_eval=True,\n",
        "    do_predict=True,\n",
        "    logging_strategy='steps',\n",
        "    eval_strategy='steps',\n",
        "    save_strategy='steps',\n",
        "    logging_steps=10,\n",
        "    eval_steps=10,\n",
        "    save_steps=100,\n",
        "    save_total_limit=2,\n",
        "    learning_rate= 3e-05,\n",
        "    adam_beta1 = 0.9,\n",
        "    adam_beta2 = 0.999,\n",
        "    adam_epsilon=1e-08,\n",
        "    weight_decay=0.01,\n",
        "    lr_scheduler_type='linear',\n",
        "    per_device_train_batch_size=32,\n",
        "    per_device_eval_batch_size=32,\n",
        "    num_train_epochs=2,\n",
        "    load_best_model_at_end=True,\n",
        "    metric_for_best_model='eval_f1',\n",
        "    greater_is_better=True,\n",
        "    seed=SEED\n",
        ")"
      ]
    },
    {
      "cell_type": "code",
      "execution_count": 40,
      "metadata": {
        "id": "eGAepHgxGJ0p"
      },
      "outputs": [
        {
          "name": "stderr",
          "output_type": "stream",
          "text": [
            "Detected kernel version 5.4.0, which is below the recommended minimum of 5.5.0; this can cause the process to hang. It is recommended to upgrade the kernel to the minimum version or higher.\n"
          ]
        }
      ],
      "source": [
        "trainer = Trainer(\n",
        "    model=model,\n",
        "    args=training_args,\n",
        "    train_dataset=data_train,\n",
        "    eval_dataset=data_valid,\n",
        "    data_collator=data_collator,\n",
        "    compute_metrics=compute_metrics,\n",
        ")"
      ]
    },
    {
      "cell_type": "code",
      "execution_count": 41,
      "metadata": {
        "id": "vJ_Vzpc9GJ0p"
      },
      "outputs": [
        {
          "data": {
            "text/html": [
              "\n",
              "    <div>\n",
              "      \n",
              "      <progress value='344' max='344' style='width:300px; height:20px; vertical-align: middle;'></progress>\n",
              "      [344/344 08:17, Epoch 2/2]\n",
              "    </div>\n",
              "    <table border=\"1\" class=\"dataframe\">\n",
              "  <thead>\n",
              " <tr style=\"text-align: left;\">\n",
              "      <th>Step</th>\n",
              "      <th>Training Loss</th>\n",
              "      <th>Validation Loss</th>\n",
              "      <th>F1</th>\n",
              "    </tr>\n",
              "  </thead>\n",
              "  <tbody>\n",
              "    <tr>\n",
              "      <td>10</td>\n",
              "      <td>1.937200</td>\n",
              "      <td>1.762350</td>\n",
              "      <td>0.411507</td>\n",
              "    </tr>\n",
              "    <tr>\n",
              "      <td>20</td>\n",
              "      <td>1.729300</td>\n",
              "      <td>1.523712</td>\n",
              "      <td>0.604673</td>\n",
              "    </tr>\n",
              "    <tr>\n",
              "      <td>30</td>\n",
              "      <td>1.414500</td>\n",
              "      <td>1.205333</td>\n",
              "      <td>0.688194</td>\n",
              "    </tr>\n",
              "    <tr>\n",
              "      <td>40</td>\n",
              "      <td>1.094200</td>\n",
              "      <td>0.968727</td>\n",
              "      <td>0.741150</td>\n",
              "    </tr>\n",
              "    <tr>\n",
              "      <td>50</td>\n",
              "      <td>0.950000</td>\n",
              "      <td>0.820865</td>\n",
              "      <td>0.759582</td>\n",
              "    </tr>\n",
              "    <tr>\n",
              "      <td>60</td>\n",
              "      <td>0.789100</td>\n",
              "      <td>0.749108</td>\n",
              "      <td>0.770445</td>\n",
              "    </tr>\n",
              "    <tr>\n",
              "      <td>70</td>\n",
              "      <td>0.640500</td>\n",
              "      <td>0.749939</td>\n",
              "      <td>0.750443</td>\n",
              "    </tr>\n",
              "    <tr>\n",
              "      <td>80</td>\n",
              "      <td>0.748100</td>\n",
              "      <td>0.652005</td>\n",
              "      <td>0.801527</td>\n",
              "    </tr>\n",
              "    <tr>\n",
              "      <td>90</td>\n",
              "      <td>0.708500</td>\n",
              "      <td>0.614651</td>\n",
              "      <td>0.815283</td>\n",
              "    </tr>\n",
              "    <tr>\n",
              "      <td>100</td>\n",
              "      <td>0.640000</td>\n",
              "      <td>0.609059</td>\n",
              "      <td>0.798876</td>\n",
              "    </tr>\n",
              "    <tr>\n",
              "      <td>110</td>\n",
              "      <td>0.652300</td>\n",
              "      <td>0.631255</td>\n",
              "      <td>0.792637</td>\n",
              "    </tr>\n",
              "    <tr>\n",
              "      <td>120</td>\n",
              "      <td>0.651100</td>\n",
              "      <td>0.600814</td>\n",
              "      <td>0.820665</td>\n",
              "    </tr>\n",
              "    <tr>\n",
              "      <td>130</td>\n",
              "      <td>0.629300</td>\n",
              "      <td>0.580538</td>\n",
              "      <td>0.814920</td>\n",
              "    </tr>\n",
              "    <tr>\n",
              "      <td>140</td>\n",
              "      <td>0.609500</td>\n",
              "      <td>0.635151</td>\n",
              "      <td>0.785338</td>\n",
              "    </tr>\n",
              "    <tr>\n",
              "      <td>150</td>\n",
              "      <td>0.527300</td>\n",
              "      <td>0.590748</td>\n",
              "      <td>0.812953</td>\n",
              "    </tr>\n",
              "    <tr>\n",
              "      <td>160</td>\n",
              "      <td>0.613800</td>\n",
              "      <td>0.559409</td>\n",
              "      <td>0.829040</td>\n",
              "    </tr>\n",
              "    <tr>\n",
              "      <td>170</td>\n",
              "      <td>0.560000</td>\n",
              "      <td>0.561594</td>\n",
              "      <td>0.831680</td>\n",
              "    </tr>\n",
              "    <tr>\n",
              "      <td>180</td>\n",
              "      <td>0.482000</td>\n",
              "      <td>0.544718</td>\n",
              "      <td>0.822535</td>\n",
              "    </tr>\n",
              "    <tr>\n",
              "      <td>190</td>\n",
              "      <td>0.387700</td>\n",
              "      <td>0.525894</td>\n",
              "      <td>0.832838</td>\n",
              "    </tr>\n",
              "    <tr>\n",
              "      <td>200</td>\n",
              "      <td>0.380100</td>\n",
              "      <td>0.526186</td>\n",
              "      <td>0.836018</td>\n",
              "    </tr>\n",
              "    <tr>\n",
              "      <td>210</td>\n",
              "      <td>0.472400</td>\n",
              "      <td>0.557510</td>\n",
              "      <td>0.820903</td>\n",
              "    </tr>\n",
              "    <tr>\n",
              "      <td>220</td>\n",
              "      <td>0.354300</td>\n",
              "      <td>0.530910</td>\n",
              "      <td>0.835284</td>\n",
              "    </tr>\n",
              "    <tr>\n",
              "      <td>230</td>\n",
              "      <td>0.490300</td>\n",
              "      <td>0.530491</td>\n",
              "      <td>0.828940</td>\n",
              "    </tr>\n",
              "    <tr>\n",
              "      <td>240</td>\n",
              "      <td>0.350800</td>\n",
              "      <td>0.533632</td>\n",
              "      <td>0.831233</td>\n",
              "    </tr>\n",
              "    <tr>\n",
              "      <td>250</td>\n",
              "      <td>0.358200</td>\n",
              "      <td>0.527944</td>\n",
              "      <td>0.831043</td>\n",
              "    </tr>\n",
              "    <tr>\n",
              "      <td>260</td>\n",
              "      <td>0.359200</td>\n",
              "      <td>0.510829</td>\n",
              "      <td>0.840099</td>\n",
              "    </tr>\n",
              "    <tr>\n",
              "      <td>270</td>\n",
              "      <td>0.297900</td>\n",
              "      <td>0.507397</td>\n",
              "      <td>0.838747</td>\n",
              "    </tr>\n",
              "    <tr>\n",
              "      <td>280</td>\n",
              "      <td>0.314100</td>\n",
              "      <td>0.502445</td>\n",
              "      <td>0.837787</td>\n",
              "    </tr>\n",
              "    <tr>\n",
              "      <td>290</td>\n",
              "      <td>0.341200</td>\n",
              "      <td>0.493863</td>\n",
              "      <td>0.842195</td>\n",
              "    </tr>\n",
              "    <tr>\n",
              "      <td>300</td>\n",
              "      <td>0.328800</td>\n",
              "      <td>0.493059</td>\n",
              "      <td>0.846904</td>\n",
              "    </tr>\n",
              "    <tr>\n",
              "      <td>310</td>\n",
              "      <td>0.402600</td>\n",
              "      <td>0.487429</td>\n",
              "      <td>0.853183</td>\n",
              "    </tr>\n",
              "    <tr>\n",
              "      <td>320</td>\n",
              "      <td>0.444300</td>\n",
              "      <td>0.484546</td>\n",
              "      <td>0.853249</td>\n",
              "    </tr>\n",
              "    <tr>\n",
              "      <td>330</td>\n",
              "      <td>0.344300</td>\n",
              "      <td>0.481450</td>\n",
              "      <td>0.856621</td>\n",
              "    </tr>\n",
              "    <tr>\n",
              "      <td>340</td>\n",
              "      <td>0.399300</td>\n",
              "      <td>0.479602</td>\n",
              "      <td>0.855080</td>\n",
              "    </tr>\n",
              "  </tbody>\n",
              "</table><p>"
            ],
            "text/plain": [
              "<IPython.core.display.HTML object>"
            ]
          },
          "metadata": {},
          "output_type": "display_data"
        },
        {
          "data": {
            "text/plain": [
              "TrainOutput(global_step=344, training_loss=0.6252312233974767, metrics={'train_runtime': 498.3, 'train_samples_per_second': 22.039, 'train_steps_per_second': 0.69, 'total_flos': 2889615327590400.0, 'train_loss': 0.6252312233974767, 'epoch': 2.0})"
            ]
          },
          "execution_count": 41,
          "metadata": {},
          "output_type": "execute_result"
        }
      ],
      "source": [
        "trainer.train()"
      ]
    },
    {
      "cell_type": "markdown",
      "metadata": {
        "id": "wBXeP6ynGJ0p"
      },
      "source": [
        "## Evaluate Model"
      ]
    },
    {
      "cell_type": "code",
      "execution_count": 42,
      "metadata": {
        "id": "eifEFgIOGJ0p"
      },
      "outputs": [],
      "source": [
        "dataset_test = pd.read_csv(TEST_DIR)"
      ]
    },
    {
      "cell_type": "code",
      "execution_count": 43,
      "metadata": {
        "id": "7vPFu9y1GJ0p"
      },
      "outputs": [
        {
          "name": "stderr",
          "output_type": "stream",
          "text": [
            "Evaluating: 100%|██████████| 30000/30000 [05:44<00:00, 87.11it/s]\n"
          ]
        }
      ],
      "source": [
        "model.eval()\n",
        "preds = []\n",
        "\n",
        "for idx, sample in tqdm(dataset_test.iterrows(), total=len(dataset_test), desc=\"Evaluating\"):\n",
        "    inputs = tokenizer(sample['text'], return_tensors=\"pt\").to(DEVICE)\n",
        "    with torch.no_grad():\n",
        "        logits = model(**inputs).logits\n",
        "        pred = torch.argmax(torch.nn.Softmax(dim=1)(logits), dim=1).cpu().numpy()\n",
        "        preds.extend(pred)"
      ]
    },
    {
      "cell_type": "code",
      "execution_count": 44,
      "metadata": {
        "id": "UO2hzsl-GJ0p"
      },
      "outputs": [],
      "source": [
        "dataset_test['target'] = preds\n",
        "dataset_test.to_csv(os.path.join(OUTPUT_DIR, 'output_v4_lr3.csv'), index=False) # processed된 파일 이름 폴더에 결과 저장"
      ]
    }
  ],
  "metadata": {
    "accelerator": "GPU",
    "colab": {
      "gpuType": "T4",
      "provenance": []
    },
    "kernelspec": {
      "display_name": "base",
      "language": "python",
      "name": "python3"
    },
    "language_info": {
      "codemirror_mode": {
        "name": "ipython",
        "version": 3
      },
      "file_extension": ".py",
      "mimetype": "text/x-python",
      "name": "python",
      "nbconvert_exporter": "python",
      "pygments_lexer": "ipython3",
      "version": "3.10.13"
    }
  },
  "nbformat": 4,
  "nbformat_minor": 0
}
