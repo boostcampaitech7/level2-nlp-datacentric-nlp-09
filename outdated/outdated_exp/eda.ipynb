{
 "cells": [
  {
   "cell_type": "code",
   "execution_count": 2,
   "metadata": {},
   "outputs": [
    {
     "data": {
      "text/html": [
       "<div>\n",
       "<style scoped>\n",
       "    .dataframe tbody tr th:only-of-type {\n",
       "        vertical-align: middle;\n",
       "    }\n",
       "\n",
       "    .dataframe tbody tr th {\n",
       "        vertical-align: top;\n",
       "    }\n",
       "\n",
       "    .dataframe thead th {\n",
       "        text-align: right;\n",
       "    }\n",
       "</style>\n",
       "<table border=\"1\" class=\"dataframe\">\n",
       "  <thead>\n",
       "    <tr style=\"text-align: right;\">\n",
       "      <th></th>\n",
       "      <th>ID</th>\n",
       "      <th>text</th>\n",
       "      <th>target</th>\n",
       "    </tr>\n",
       "  </thead>\n",
       "  <tbody>\n",
       "    <tr>\n",
       "      <th>0</th>\n",
       "      <td>ynat-v1_train_00000</td>\n",
       "      <td>정의구현사제단 시국미사 미사용기간 단기간에 종결될 수 있다</td>\n",
       "      <td>4</td>\n",
       "    </tr>\n",
       "    <tr>\n",
       "      <th>1</th>\n",
       "      <td>ynat-v1_train_00002</td>\n",
       "      <td>김정일, 자주, 통일, 새, 열, 나가야, 보수</td>\n",
       "      <td>2</td>\n",
       "    </tr>\n",
       "    <tr>\n",
       "      <th>2</th>\n",
       "      <td>ynat-v1_train_00004</td>\n",
       "      <td>대통령 선거를 앞두고 정치권 비방 댓글 단에 대한 감시가 강화되고 있다.</td>\n",
       "      <td>6</td>\n",
       "    </tr>\n",
       "    <tr>\n",
       "      <th>3</th>\n",
       "      <td>ynat-v1_train_00006</td>\n",
       "      <td>광주-기아챔피언스필드에서 열릴 예정이던 롯데-KIA 경기가 우천으로 취소됐다.</td>\n",
       "      <td>1</td>\n",
       "    </tr>\n",
       "    <tr>\n",
       "      <th>4</th>\n",
       "      <td>ynat-v1_train_00007</td>\n",
       "      <td>아포짓 스파이커 알렉스와 레오나르도 가빈이 이끄는 한국전력 빅스톰이 우리캐피탈 위비...</td>\n",
       "      <td>4</td>\n",
       "    </tr>\n",
       "    <tr>\n",
       "      <th>...</th>\n",
       "      <td>...</td>\n",
       "      <td>...</td>\n",
       "      <td>...</td>\n",
       "    </tr>\n",
       "    <tr>\n",
       "      <th>6049</th>\n",
       "      <td>augmentation</td>\n",
       "      <td>5 . 게임 산업의 괄목할 성장과 사회적 영향</td>\n",
       "      <td>4</td>\n",
       "    </tr>\n",
       "    <tr>\n",
       "      <th>6050</th>\n",
       "      <td>augmentation</td>\n",
       "      <td>이제 특이하고 매적인 문화 뉴스 제 목 6개를 만들어볼 차례야</td>\n",
       "      <td>0</td>\n",
       "    </tr>\n",
       "    <tr>\n",
       "      <th>6051</th>\n",
       "      <td>augmentation</td>\n",
       "      <td>1  . 축구 월드컵 예선  한  국  팀 선전 분석</td>\n",
       "      <td>1</td>\n",
       "    </tr>\n",
       "    <tr>\n",
       "      <th>6052</th>\n",
       "      <td>augmentation</td>\n",
       "      <td>2   . 신흥 강호  로  부상  하고 있는  한국  배구  리그</td>\n",
       "      <td>1</td>\n",
       "    </tr>\n",
       "    <tr>\n",
       "      <th>6053</th>\n",
       "      <td>augmentation</td>\n",
       "      <td>4   한국 남자 테니스, 세계 무  대  서  선 전  펼치다</td>\n",
       "      <td>1</td>\n",
       "    </tr>\n",
       "  </tbody>\n",
       "</table>\n",
       "<p>6054 rows × 3 columns</p>\n",
       "</div>"
      ],
      "text/plain": [
       "                       ID                                               text  \\\n",
       "0     ynat-v1_train_00000                   정의구현사제단 시국미사 미사용기간 단기간에 종결될 수 있다   \n",
       "1     ynat-v1_train_00002                         김정일, 자주, 통일, 새, 열, 나가야, 보수   \n",
       "2     ynat-v1_train_00004           대통령 선거를 앞두고 정치권 비방 댓글 단에 대한 감시가 강화되고 있다.   \n",
       "3     ynat-v1_train_00006        광주-기아챔피언스필드에서 열릴 예정이던 롯데-KIA 경기가 우천으로 취소됐다.   \n",
       "4     ynat-v1_train_00007  아포짓 스파이커 알렉스와 레오나르도 가빈이 이끄는 한국전력 빅스톰이 우리캐피탈 위비...   \n",
       "...                   ...                                                ...   \n",
       "6049         augmentation                          5 . 게임 산업의 괄목할 성장과 사회적 영향   \n",
       "6050         augmentation                 이제 특이하고 매적인 문화 뉴스 제 목 6개를 만들어볼 차례야   \n",
       "6051         augmentation                      1  . 축구 월드컵 예선  한  국  팀 선전 분석   \n",
       "6052         augmentation              2   . 신흥 강호  로  부상  하고 있는  한국  배구  리그   \n",
       "6053         augmentation                4   한국 남자 테니스, 세계 무  대  서  선 전  펼치다   \n",
       "\n",
       "      target  \n",
       "0          4  \n",
       "1          2  \n",
       "2          6  \n",
       "3          1  \n",
       "4          4  \n",
       "...      ...  \n",
       "6049       4  \n",
       "6050       0  \n",
       "6051       1  \n",
       "6052       1  \n",
       "6053       1  \n",
       "\n",
       "[6054 rows x 3 columns]"
      ]
     },
     "execution_count": 2,
     "metadata": {},
     "output_type": "execute_result"
    }
   ],
   "source": [
    "import pandas as pd\n",
    "df = pd.read_csv('../../data/preprocessed_v2/clear_augmentation_v2.csv')\n",
    "df"
   ]
  },
  {
   "cell_type": "code",
   "execution_count": 3,
   "metadata": {},
   "outputs": [
    {
     "data": {
      "text/plain": [
       "count    6054.000000\n",
       "mean        7.405517\n",
       "std         2.689058\n",
       "min         1.000000\n",
       "25%         6.000000\n",
       "50%         7.000000\n",
       "75%         8.000000\n",
       "max        29.000000\n",
       "Name: text_len, dtype: float64"
      ]
     },
     "execution_count": 3,
     "metadata": {},
     "output_type": "execute_result"
    }
   ],
   "source": [
    "df['text_len'] = df['text'].apply(lambda x: len(x.split()))\n",
    "df['text_len'].describe()"
   ]
  },
  {
   "cell_type": "code",
   "execution_count": 5,
   "metadata": {},
   "outputs": [
    {
     "data": {
      "text/plain": [
       "count    6054.000000\n",
       "mean       15.513214\n",
       "std         7.213673\n",
       "min         4.000000\n",
       "25%        11.000000\n",
       "50%        14.000000\n",
       "75%        17.000000\n",
       "max        70.000000\n",
       "Name: token_len, dtype: float64"
      ]
     },
     "execution_count": 5,
     "metadata": {},
     "output_type": "execute_result"
    }
   ],
   "source": [
    "from transformers import AutoTokenizer\n",
    "\n",
    "model_name = 'klue/bert-base'\n",
    "tokenizer = AutoTokenizer.from_pretrained(model_name)\n",
    "\n",
    "df['token_len'] = df['text'].apply(lambda x: len(tokenizer(x)['input_ids']))\n",
    "df['token_len'].describe()"
   ]
  },
  {
   "cell_type": "code",
   "execution_count": 4,
   "metadata": {},
   "outputs": [
    {
     "data": {
      "text/html": [
       "<div>\n",
       "<style scoped>\n",
       "    .dataframe tbody tr th:only-of-type {\n",
       "        vertical-align: middle;\n",
       "    }\n",
       "\n",
       "    .dataframe tbody tr th {\n",
       "        vertical-align: top;\n",
       "    }\n",
       "\n",
       "    .dataframe thead th {\n",
       "        text-align: right;\n",
       "    }\n",
       "</style>\n",
       "<table border=\"1\" class=\"dataframe\">\n",
       "  <thead>\n",
       "    <tr style=\"text-align: right;\">\n",
       "      <th></th>\n",
       "      <th>ID</th>\n",
       "      <th>text</th>\n",
       "      <th>target</th>\n",
       "    </tr>\n",
       "  </thead>\n",
       "  <tbody>\n",
       "    <tr>\n",
       "      <th>0</th>\n",
       "      <td>ynat-v1_train_00000</td>\n",
       "      <td>정i :파1 미사z KT( 이용기간 2e 단] Q분종U2보</td>\n",
       "      <td>4</td>\n",
       "    </tr>\n",
       "    <tr>\n",
       "      <th>1</th>\n",
       "      <td>ynat-v1_train_00001</td>\n",
       "      <td>K찰.국DLwo 로L3한N% 회장 2 T0&amp;}송=</td>\n",
       "      <td>3</td>\n",
       "    </tr>\n",
       "    <tr>\n",
       "      <th>2</th>\n",
       "      <td>ynat-v1_train_00002</td>\n",
       "      <td>m 김정) 자주통일 새,?r열1나가야1보</td>\n",
       "      <td>2</td>\n",
       "    </tr>\n",
       "    <tr>\n",
       "      <th>3</th>\n",
       "      <td>ynat-v1_train_00003</td>\n",
       "      <td>갤노트8 주말 27만대 개통…시장은 불법 보조금 얼룩</td>\n",
       "      <td>5</td>\n",
       "    </tr>\n",
       "    <tr>\n",
       "      <th>4</th>\n",
       "      <td>ynat-v1_train_00004</td>\n",
       "      <td>pI美대선I앞두고 R2fr단 발] $비해 감시 강화</td>\n",
       "      <td>6</td>\n",
       "    </tr>\n",
       "    <tr>\n",
       "      <th>...</th>\n",
       "      <td>...</td>\n",
       "      <td>...</td>\n",
       "      <td>...</td>\n",
       "    </tr>\n",
       "    <tr>\n",
       "      <th>2795</th>\n",
       "      <td>ynat-v1_train_02795</td>\n",
       "      <td>트럼프 폭스뉴스 앵커들 충성도 점수매겨…10점만점에 12점도</td>\n",
       "      <td>6</td>\n",
       "    </tr>\n",
       "    <tr>\n",
       "      <th>2796</th>\n",
       "      <td>ynat-v1_train_02796</td>\n",
       "      <td>삼성 갤럭시S9 정식 출시 첫 주말 이통시장 잠잠</td>\n",
       "      <td>2</td>\n",
       "    </tr>\n",
       "    <tr>\n",
       "      <th>2797</th>\n",
       "      <td>ynat-v1_train_02797</td>\n",
       "      <td>텔레그램+한D 등h亞서 2시간H다운…C버T정gf39종!2보</td>\n",
       "      <td>4</td>\n",
       "    </tr>\n",
       "    <tr>\n",
       "      <th>2798</th>\n",
       "      <td>ynat-v1_train_02798</td>\n",
       "      <td>인터뷰 류현진 친구에게 안타 맞는 것 싫어해…승부는 냉정</td>\n",
       "      <td>1</td>\n",
       "    </tr>\n",
       "    <tr>\n",
       "      <th>2799</th>\n",
       "      <td>ynat-v1_train_02799</td>\n",
       "      <td>지능정보사회 대비 국가 종합대책 마련</td>\n",
       "      <td>4</td>\n",
       "    </tr>\n",
       "  </tbody>\n",
       "</table>\n",
       "<p>2800 rows × 3 columns</p>\n",
       "</div>"
      ],
      "text/plain": [
       "                       ID                               text  target\n",
       "0     ynat-v1_train_00000   정i :파1 미사z KT( 이용기간 2e 단] Q분종U2보       4\n",
       "1     ynat-v1_train_00001        K찰.국DLwo 로L3한N% 회장 2 T0&}송=       3\n",
       "2     ynat-v1_train_00002             m 김정) 자주통일 새,?r열1나가야1보       2\n",
       "3     ynat-v1_train_00003      갤노트8 주말 27만대 개통…시장은 불법 보조금 얼룩       5\n",
       "4     ynat-v1_train_00004       pI美대선I앞두고 R2fr단 발] $비해 감시 강화       6\n",
       "...                   ...                                ...     ...\n",
       "2795  ynat-v1_train_02795  트럼프 폭스뉴스 앵커들 충성도 점수매겨…10점만점에 12점도       6\n",
       "2796  ynat-v1_train_02796        삼성 갤럭시S9 정식 출시 첫 주말 이통시장 잠잠       2\n",
       "2797  ynat-v1_train_02797   텔레그램+한D 등h亞서 2시간H다운…C버T정gf39종!2보       4\n",
       "2798  ynat-v1_train_02798    인터뷰 류현진 친구에게 안타 맞는 것 싫어해…승부는 냉정       1\n",
       "2799  ynat-v1_train_02799               지능정보사회 대비 국가 종합대책 마련       4\n",
       "\n",
       "[2800 rows x 3 columns]"
      ]
     },
     "execution_count": 4,
     "metadata": {},
     "output_type": "execute_result"
    }
   ],
   "source": [
    "import pandas as pd\n",
    "\n",
    "df = pd.read_csv('../../data/raw/train.csv')\n",
    "df"
   ]
  },
  {
   "cell_type": "code",
   "execution_count": 4,
   "metadata": {},
   "outputs": [
    {
     "data": {
      "text/plain": [
       "count    2800.000000\n",
       "mean       27.192143\n",
       "std         4.957505\n",
       "min         8.000000\n",
       "25%        25.000000\n",
       "50%        28.000000\n",
       "75%        31.000000\n",
       "max        41.000000\n",
       "Name: text_len, dtype: float64"
      ]
     },
     "execution_count": 4,
     "metadata": {},
     "output_type": "execute_result"
    }
   ],
   "source": [
    "df['text_len'] = df['text'].apply(len)\n",
    "df['text_len'].describe()"
   ]
  },
  {
   "cell_type": "code",
   "execution_count": null,
   "metadata": {},
   "outputs": [],
   "source": [
    "from transformers import AutoModelForCausalLM, AutoTokenizer\n",
    "\n",
    "# tokenizer = AutoTokenizer.from_pretrained(\"SEOKDONG/llama3.0_korean_v1.0_sft\")\n",
    "\n",
    "# check token length\n",
    "def get_token_length(x):\n",
    "    return len(tokenizer(x)['input_ids'])\n",
    "\n",
    "df['token_length'] = df['text'].apply(get_token_length)"
   ]
  },
  {
   "cell_type": "code",
   "execution_count": null,
   "metadata": {},
   "outputs": [
    {
     "data": {
      "text/plain": [
       "count    2800.000000\n",
       "mean       22.198571\n",
       "std         4.471960\n",
       "min         7.000000\n",
       "25%        20.000000\n",
       "50%        23.000000\n",
       "75%        25.000000\n",
       "max        37.000000\n",
       "Name: token_length, dtype: float64"
      ]
     },
     "execution_count": 3,
     "metadata": {},
     "output_type": "execute_result"
    }
   ],
   "source": [
    "df['token_length'].describe()"
   ]
  },
  {
   "cell_type": "code",
   "execution_count": 1,
   "metadata": {},
   "outputs": [
    {
     "data": {
      "text/plain": [
       "\"다음은 '*'로 가려진 한국어 뉴스 기사 제목이야.\\n주어진 뉴스 기사 제목 중 '*'로 가려져 있지 않는 부분을 활용하여 숙련된 한국 뉴스 기자가 쓸 법한 한국어 뉴스 기사 제목을 반말로 생성해.\\n\""
      ]
     },
     "execution_count": 1,
     "metadata": {},
     "output_type": "execute_result"
    }
   ],
   "source": [
    "prompt = (\n",
    "    \"다음은 '*'로 가려진 한국어 뉴스 기사 제목이야.\\n\"\n",
    "    \"주어진 뉴스 기사 제목 중 '*'로 가려져 있지 않는 부분을 활용하여 숙련된 한국 뉴스 기자가 쓸 법한 한국어 뉴스 기사 제목을 반말로 생성해.\\n\"\n",
    ")\n",
    "prompt   "
   ]
  },
  {
   "cell_type": "code",
   "execution_count": 2,
   "metadata": {},
   "outputs": [
    {
     "data": {
      "text/plain": [
       "\"다음은 한국어 뉴스 헤드라인을 작성하는 과제야. 너는 숙련된 한국 뉴스 기자처럼 생각하며 최신 뉴스 트렌드와 보도 방식을 반영해 짧고 간결한 헤드라인을 작성해야 해.\\n\\n작성 지침:\\n1. 주제와 세부사항은 너의 상상력에 맡긴다. 정치, 경제, 사회, 문화 등 다양한 분야를 다룰 수 있어.\\n2. 헤드라인은 15자에서 30자 사이로 작성해.\\n3. 독자의 흥미를 끌 수 있도록 매력적이고 주목할 만한 내용을 반영해.\\n4. 중립적이고 사실 기반의 어조를 유지해.\\n\\n예시:\\n- 헤드라인: '국내 IT기업, 혁신 기술 발표'\\n- 헤드라인: '서울, 대기질 개선 프로젝트 착수'\\n- 헤드라인: '여자농구 신한은행 팀 최소 득점 기록 34점 불명예'\\n- 헤드라인: '메시·호날두 UEFA 올해의 팀에 선정…EPL 선수 제로'\\n- 헤드라인: '여당, 신규 정책으로 국민 지지율 상승'\\n\\n이제 자유롭게 주제와 세부사항을 설정하고 헤드라인을 작성해봐.\\n\""
      ]
     },
     "execution_count": 2,
     "metadata": {},
     "output_type": "execute_result"
    }
   ],
   "source": [
    "prompt = \"\"\"다음은 한국어 뉴스 헤드라인을 작성하는 과제야. 너는 숙련된 한국 뉴스 기자처럼 생각하며 최신 뉴스 트렌드와 보도 방식을 반영해 짧고 간결한 헤드라인을 작성해야 해.\n",
    "\n",
    "작성 지침:\n",
    "1. 주제와 세부사항은 너의 상상력에 맡긴다. 정치, 경제, 사회, 문화 등 다양한 분야를 다룰 수 있어.\n",
    "2. 헤드라인은 15자에서 30자 사이로 작성해.\n",
    "3. 독자의 흥미를 끌 수 있도록 매력적이고 주목할 만한 내용을 반영해.\n",
    "4. 중립적이고 사실 기반의 어조를 유지해.\n",
    "\n",
    "예시:\n",
    "- 헤드라인: '국내 IT기업, 혁신 기술 발표'\n",
    "- 헤드라인: '서울, 대기질 개선 프로젝트 착수'\n",
    "- 헤드라인: '여자농구 신한은행 팀 최소 득점 기록 34점 불명예'\n",
    "- 헤드라인: '메시·호날두 UEFA 올해의 팀에 선정…EPL 선수 제로'\n",
    "- 헤드라인: '여당, 신규 정책으로 국민 지지율 상승'\n",
    "\n",
    "이제 자유롭게 주제와 세부사항을 설정하고 헤드라인을 작성해봐.\n",
    "\"\"\"\n",
    "\n",
    "prompt"
   ]
  },
  {
   "cell_type": "code",
   "execution_count": 12,
   "metadata": {},
   "outputs": [
    {
     "data": {
      "text/plain": [
       "str"
      ]
     },
     "execution_count": 12,
     "metadata": {},
     "output_type": "execute_result"
    }
   ],
   "source": [
    "import pandas as pd\n",
    "\n",
    "# 리스트 정의\n",
    "l = ['예시1', '예시2', '예시3', '예시4', '예시5']\n",
    "\n",
    "# 새로운 DataFrame 생성\n",
    "df = pd.DataFrame({\n",
    "    'ID': ['augmentation'] * len(l),  # ID 열을 'augmentation'으로 채움\n",
    "    'text': l,  # text 열에 리스트 l 삽입\n",
    "    'target': [-1] * len(l)  # target 열을 -1로 채움\n",
    "})\n",
    "\n",
    "# 결과 출력\n",
    "x = df.at[0, 'ID']\n",
    "type(x)"
   ]
  },
  {
   "cell_type": "code",
   "execution_count": 41,
   "metadata": {},
   "outputs": [
    {
     "name": "stdout",
     "output_type": "stream",
     "text": [
      "<|START_OF_TURN_TOKEN|><|CHATBOT_TOKEN|>다음은 제가 작성한 한국어 خبر르라인입니다:\n",
      "\n",
      "1.- 헤د라인 : '정부, 탈탄소 정책 추진...2050년 탄소중립 목표' \n",
      "2.- ヘ르아라인： 'K-팝 열풍, 세계 음악 시장 지형 바꾼다'  \n",
      "3.- 赫드ライン：'서울시, 도심 속 공유주택 확대 추진'   \n",
      "4.- 頭드 라인： 'AI 기술, 의료 분야 혁신을\"\n",
      "\n"
     ]
    }
   ],
   "source": [
    "import re\n",
    "\n",
    "\n",
    "text = \"\"\"\"<|START_OF_TURN_TOKEN|><|USER_TOKEN|>다음은 한국어 뉴스 헤드라인을 작성하는 과제야. 너는 숙련된 한국 뉴스 기자처럼 생각하며 최신 뉴스 트렌드와 보도 방식을 반영해 짧고 간결한 헤드라인을 작성해야 해.\n",
    "\n",
    "작성 지침:\n",
    "1. 주제와 세부사항은 너의 상상력에 맡긴다. 정치, 경제, 사회, 문화 등 다양한 분야를 다룰 수 있어.\n",
    "2. 헤드라인은 15자에서 30자 사이로 작성해.\n",
    "3. 독자의 흥미를 끌 수 있도록 매력적이고 주목할 만한 내용을 반영해.\n",
    "4. 중립적이고 사실 기반의 어조를 유지해.\n",
    "5. \"\"- 헤드라인\"\" 이라는 문구를 포함해 헤드라인을 작성해.\n",
    "\n",
    "예시:\n",
    "- 헤드라인: '국내 IT기업, 혁신 기술 발표'\n",
    "- 헤드라인: '서울, 대기질 개선 프로젝트 착수'\n",
    "- 헤드라인: '여자농구 신한은행 팀 최소 득점 기록 34점 불명예'\n",
    "- 헤드라인: '메시·호날두 UEFA 올해의 팀에 선정…EPL 선수 제로'\n",
    "- 헤드라인: '여당, 신규 정책으로 국민 지지율 상승'\n",
    "\n",
    "이제 자유롭게 주제와 세부사항을 설정하고 헤드라인을 작성해봐.<|START_OF_TURN_TOKEN|><|CHATBOT_TOKEN|>다음은 제가 작성한 한국어 خبر르라인입니다:\n",
    "\n",
    "1.- 헤د라인 : '정부, 탈탄소 정책 추진...2050년 탄소중립 목표' \n",
    "2.- ヘ르아라인： 'K-팝 열풍, 세계 음악 시장 지형 바꾼다'  \n",
    "3.- 赫드ライン：'서울시, 도심 속 공유주택 확대 추진'   \n",
    "4.- 頭드 라인： 'AI 기술, 의료 분야 혁신을\"\n",
    "\"\"\"\n",
    "\n",
    "# 헤드라인 추출\n",
    "headlines = text.split('헤드라인을 작성해봐.')[1]\n",
    "\n",
    "# 결과 출력\n",
    "print(headlines)"
   ]
  },
  {
   "cell_type": "code",
   "execution_count": 29,
   "metadata": {},
   "outputs": [
    {
     "data": {
      "text/plain": [
       "{134, 244}"
      ]
     },
     "execution_count": 29,
     "metadata": {},
     "output_type": "execute_result"
    }
   ],
   "source": [
    "s = set()\n",
    "s.add(134)\n",
    "s.add(244)\n",
    "s"
   ]
  },
  {
   "cell_type": "code",
   "execution_count": 38,
   "metadata": {},
   "outputs": [
    {
     "data": {
      "text/html": [
       "<div>\n",
       "<style scoped>\n",
       "    .dataframe tbody tr th:only-of-type {\n",
       "        vertical-align: middle;\n",
       "    }\n",
       "\n",
       "    .dataframe tbody tr th {\n",
       "        vertical-align: top;\n",
       "    }\n",
       "\n",
       "    .dataframe thead th {\n",
       "        text-align: right;\n",
       "    }\n",
       "</style>\n",
       "<table border=\"1\" class=\"dataframe\">\n",
       "  <thead>\n",
       "    <tr style=\"text-align: right;\">\n",
       "      <th></th>\n",
       "      <th>ID</th>\n",
       "      <th>text</th>\n",
       "      <th>target</th>\n",
       "    </tr>\n",
       "  </thead>\n",
       "  <tbody>\n",
       "    <tr>\n",
       "      <th>0</th>\n",
       "      <td>start</td>\n",
       "      <td>start</td>\n",
       "      <td>start</td>\n",
       "    </tr>\n",
       "  </tbody>\n",
       "</table>\n",
       "</div>"
      ],
      "text/plain": [
       "      ID   text target\n",
       "0  start  start  start"
      ]
     },
     "execution_count": 38,
     "metadata": {},
     "output_type": "execute_result"
    }
   ],
   "source": [
    "df = pd.DataFrame({\n",
    "    'ID': ['start'],\n",
    "    'text': ['start'],\n",
    "    'target': ['start'],\n",
    "})\n",
    "df"
   ]
  }
 ],
 "metadata": {
  "kernelspec": {
   "display_name": "base",
   "language": "python",
   "name": "python3"
  },
  "language_info": {
   "codemirror_mode": {
    "name": "ipython",
    "version": 3
   },
   "file_extension": ".py",
   "mimetype": "text/x-python",
   "name": "python",
   "nbconvert_exporter": "python",
   "pygments_lexer": "ipython3",
   "version": "3.10.13"
  }
 },
 "nbformat": 4,
 "nbformat_minor": 2
}
